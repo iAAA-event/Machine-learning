{
 "cells": [
  {
   "cell_type": "markdown",
   "metadata": {},
   "source": [
    "# Assignment 5 Solution"
   ]
  },
  {
   "cell_type": "markdown",
   "metadata": {},
   "source": [
    "## Student Study Performance"
   ]
  },
  {
   "cell_type": "markdown",
   "metadata": {},
   "source": [
    "### Importing Required Libraries"
   ]
  },
  {
   "cell_type": "code",
   "execution_count": null,
   "metadata": {},
   "outputs": [],
   "source": [
    "import numpy as np\n",
    "import pandas as pd\n",
    "\n",
    "import seaborn as sns\n",
    "import matplotlib.pyplot as plt\n",
    "%matplotlib inline\n",
    "\n",
    "import os\n",
    "import matplotlib.pyplot as plt\n",
    "from sklearn.model_selection import train_test_split\n",
    "from sklearn.preprocessing import StandardScaler, OneHotEncoder\n",
    "from sklearn.compose import ColumnTransformer\n",
    "from sklearn.metrics import accuracy_score\n",
    "\n",
    "import torch\n",
    "import torch.nn as nn\n",
    "import torch.optim as optim\n",
    "\n"
   ]
  },
  {
   "cell_type": "markdown",
   "metadata": {},
   "source": [
    "### Reading Data"
   ]
  },
  {
   "cell_type": "code",
   "execution_count": null,
   "metadata": {},
   "outputs": [],
   "source": [
    "Student_Data = pd.read_csv(\"/kaggle/input/student-study-performance/study_performance.csv\")\n",
    "Student_Data"
   ]
  },
  {
   "cell_type": "markdown",
   "metadata": {},
   "source": [
    "### EDA"
   ]
  },
  {
   "cell_type": "code",
   "execution_count": null,
   "metadata": {},
   "outputs": [],
   "source": [
    "Student_Data.info()"
   ]
  },
  {
   "cell_type": "code",
   "execution_count": null,
   "metadata": {},
   "outputs": [],
   "source": [
    "# Check Missing values\n",
    "Student_Data.isna().sum()"
   ]
  },
  {
   "cell_type": "code",
   "execution_count": null,
   "metadata": {},
   "outputs": [],
   "source": [
    "# Check Duplicates\n",
    "Student_Data.duplicated().sum()"
   ]
  },
  {
   "cell_type": "code",
   "execution_count": null,
   "metadata": {},
   "outputs": [],
   "source": [
    "# Check the number of unique values of each column\n",
    "Student_Data.nunique()"
   ]
  },
  {
   "cell_type": "code",
   "execution_count": null,
   "metadata": {},
   "outputs": [],
   "source": [
    "# Check statistics of data set\n",
    "Student_Data.describe()"
   ]
  },
  {
   "cell_type": "code",
   "execution_count": null,
   "metadata": {},
   "outputs": [],
   "source": [
    "print(\"Categories in 'gender' variable:     \",end=\" \" )\n",
    "print(Student_Data['gender'].unique())\n",
    "\n",
    "print(\"Categories in 'race_ethnicity' variable:  \",end=\" \")\n",
    "print(Student_Data['race_ethnicity'].unique())\n",
    "\n",
    "print(\"Categories in'parental level of education' variable:\",end=\" \" )\n",
    "print(Student_Data['parental_level_of_education'].unique())\n",
    "\n",
    "print(\"Categories in 'lunch' variable:     \",end=\" \" )\n",
    "print(Student_Data['lunch'].unique())\n",
    "\n",
    "print(\"Categories in 'test preparation course' variable:     \",end=\" \" )\n",
    "print(Student_Data['test_preparation_course'].unique())"
   ]
  },
  {
   "cell_type": "code",
   "execution_count": null,
   "metadata": {},
   "outputs": [],
   "source": [
    "# define numerical & categorical columns\n",
    "numeric_features = [feature for feature in Student_Data.columns if Student_Data[feature].dtype != 'O']\n",
    "categorical_features = [feature for feature in Student_Data.columns if Student_Data[feature].dtype == 'O']\n",
    "\n",
    "# print columns\n",
    "print('We have {} numerical features : {}'.format(len(numeric_features), numeric_features))\n",
    "print('\\nWe have {} categorical features : {}'.format(len(categorical_features), categorical_features))"
   ]
  },
  {
   "cell_type": "code",
   "execution_count": null,
   "metadata": {},
   "outputs": [],
   "source": [
    "Student_Data['total score'] = Student_Data['math_score'] + Student_Data['reading_score'] + Student_Data['writing_score']\n",
    "Student_Data['average'] = Student_Data['total score']/3\n",
    "Student_Data.head()"
   ]
  },
  {
   "cell_type": "code",
   "execution_count": null,
   "metadata": {},
   "outputs": [],
   "source": [
    "reading_full = Student_Data[Student_Data['reading_score'] == 100]['average'].count()\n",
    "writing_full = Student_Data[Student_Data['writing_score'] == 100]['average'].count()\n",
    "math_full = Student_Data[Student_Data['math_score'] == 100]['average'].count()\n",
    "\n",
    "print(f'Number of students with full marks in Maths: {math_full}')\n",
    "print(f'Number of students with full marks in Writing: {writing_full}')\n",
    "print(f'Number of students with full marks in Reading: {reading_full}')"
   ]
  },
  {
   "cell_type": "code",
   "execution_count": null,
   "metadata": {},
   "outputs": [],
   "source": [
    "reading_less_20 = Student_Data[Student_Data['reading_score'] <= 20]['average'].count()\n",
    "writing_less_20 = Student_Data[Student_Data['writing_score'] <= 20]['average'].count()\n",
    "math_less_20 = Student_Data[Student_Data['math_score'] <= 20]['average'].count()\n",
    "\n",
    "print(f'Number of students with less than 20 marks in Maths: {math_less_20}')\n",
    "print(f'Number of students with less than 20 marks in Writing: {writing_less_20}')\n",
    "print(f'Number of students with less than 20 marks in Reading: {reading_less_20}')"
   ]
  },
  {
   "cell_type": "code",
   "execution_count": null,
   "metadata": {},
   "outputs": [],
   "source": [
    "sns.pairplot(Student_Data,hue = 'gender')\n",
    "plt.show()"
   ]
  },
  {
   "cell_type": "code",
   "execution_count": null,
   "metadata": {},
   "outputs": [],
   "source": [
    "fig, axs = plt.subplots(1, 2, figsize=(15, 7))\n",
    "plt.subplot(121)\n",
    "sns.histplot(data=Student_Data,x='average',bins=30,kde=True,color='g')\n",
    "plt.subplot(122)\n",
    "sns.histplot(data=Student_Data,x='average',kde=True,hue='gender')\n",
    "plt.show()"
   ]
  },
  {
   "cell_type": "code",
   "execution_count": null,
   "metadata": {},
   "outputs": [],
   "source": [
    "fig, axs = plt.subplots(1, 2, figsize=(15, 7))\n",
    "plt.subplot(121)\n",
    "sns.histplot(data=Student_Data,x='total score',bins=30,kde=True,color='g')\n",
    "plt.subplot(122)\n",
    "sns.histplot(data=Student_Data,x='total score',kde=True,hue='gender')\n",
    "plt.show()"
   ]
  },
  {
   "cell_type": "code",
   "execution_count": null,
   "metadata": {},
   "outputs": [],
   "source": [
    "plt.subplots(1,3,figsize=(25,6))\n",
    "plt.subplot(141)\n",
    "sns.histplot(data=Student_Data,x='average',kde=True,hue='lunch')\n",
    "plt.subplot(142)\n",
    "sns.histplot(data=Student_Data[Student_Data.gender=='female'],x='average',kde=True,hue='lunch')\n",
    "plt.subplot(143)\n",
    "sns.histplot(data=Student_Data[Student_Data.gender=='male'],x='average',kde=True,hue='lunch')\n",
    "plt.show()"
   ]
  },
  {
   "cell_type": "code",
   "execution_count": null,
   "metadata": {},
   "outputs": [],
   "source": [
    "plt.subplots(1,3,figsize=(25,6))\n",
    "plt.subplot(141)\n",
    "ax =sns.histplot(data=Student_Data,x='average',kde=True,hue='parental_level_of_education')\n",
    "plt.subplot(142)\n",
    "ax =sns.histplot(data=Student_Data[Student_Data.gender=='male'],x='average',kde=True,hue='parental_level_of_education')\n",
    "plt.subplot(143)\n",
    "ax =sns.histplot(data=Student_Data[Student_Data.gender=='female'],x='average',kde=True,hue='parental_level_of_education')\n",
    "plt.show()"
   ]
  },
  {
   "cell_type": "code",
   "execution_count": null,
   "metadata": {},
   "outputs": [],
   "source": [
    "plt.subplots(1,3,figsize=(25,6))\n",
    "plt.subplot(141)\n",
    "ax =sns.histplot(data=Student_Data,x='average',kde=True,hue='race_ethnicity')\n",
    "plt.subplot(142)\n",
    "ax =sns.histplot(data=Student_Data[Student_Data.gender=='female'],x='average',kde=True,hue='race_ethnicity')\n",
    "plt.subplot(143)\n",
    "ax =sns.histplot(data=Student_Data[Student_Data.gender=='male'],x='average',kde=True,hue='race_ethnicity')\n",
    "plt.show()"
   ]
  },
  {
   "cell_type": "code",
   "execution_count": null,
   "metadata": {},
   "outputs": [],
   "source": [
    "plt.figure(figsize=(18,8))\n",
    "plt.subplot(1, 4, 1)\n",
    "plt.title('MATH SCORES')\n",
    "sns.violinplot(y='math_score',data=Student_Data,color='red',linewidth=3)\n",
    "plt.subplot(1, 4, 2)\n",
    "plt.title('READING SCORES')\n",
    "sns.violinplot(y='reading_score',data=Student_Data,color='green',linewidth=3)\n",
    "plt.subplot(1, 4, 3)\n",
    "plt.title('WRITING SCORES')\n",
    "sns.violinplot(y='writing_score',data=Student_Data,color='blue',linewidth=3)\n",
    "plt.show()"
   ]
  },
  {
   "cell_type": "code",
   "execution_count": null,
   "metadata": {},
   "outputs": [],
   "source": [
    "plt.rcParams['figure.figsize'] = (30, 12)\n",
    "\n",
    "plt.subplot(1, 5, 1)\n",
    "size = Student_Data['gender'].value_counts()\n",
    "labels = 'Female', 'Male'\n",
    "color = ['red','green']\n",
    "\n",
    "plt.pie(size, colors = color, labels = labels,autopct = '.%2f%%')\n",
    "plt.title('Gender', fontsize = 20)\n",
    "plt.axis('off')\n",
    "\n",
    "plt.subplot(1, 5, 2)\n",
    "size = Student_Data['race_ethnicity'].value_counts()\n",
    "labels = 'Group C', 'Group D','Group B','Group E','Group A'\n",
    "color = ['red', 'green', 'blue', 'cyan','orange']\n",
    "\n",
    "plt.pie(size, colors = color,labels = labels,autopct = '.%2f%%')\n",
    "plt.title('Race/Ethnicity', fontsize = 20)\n",
    "plt.axis('off')\n",
    "\n",
    "plt.subplot(1, 5, 3)\n",
    "size = Student_Data['lunch'].value_counts()\n",
    "labels = 'Standard', 'Free'\n",
    "color = ['red','green']\n",
    "\n",
    "plt.pie(size, colors = color,labels = labels,autopct = '.%2f%%')\n",
    "plt.title('Lunch', fontsize = 20)\n",
    "plt.axis('off')\n",
    "\n",
    "plt.subplot(1, 5, 4)\n",
    "size = Student_Data['test_preparation_course'].value_counts()\n",
    "labels = 'None', 'Completed'\n",
    "color = ['red','green']\n",
    "\n",
    "plt.pie(size, colors = color,labels = labels,autopct = '.%2f%%')\n",
    "plt.title('Test Course', fontsize = 20)\n",
    "plt.axis('off')\n",
    "\n",
    "plt.subplot(1, 5, 5)\n",
    "size = Student_Data['parental_level_of_education'].value_counts()\n",
    "labels = 'Some College', \"Associate's Degree\",'High School','Some High School',\"Bachelor's Degree\",\"Master's Degree\"\n",
    "color = ['red', 'green', 'blue', 'cyan','orange','grey']\n",
    "\n",
    "plt.pie(size, colors = color,labels = labels,autopct = '.%2f%%')\n",
    "plt.title('Parental Education', fontsize = 20)\n",
    "plt.axis('off')\n",
    "\n",
    "plt.tight_layout()\n",
    "plt.grid()\n",
    "\n",
    "plt.show()"
   ]
  },
  {
   "cell_type": "markdown",
   "metadata": {},
   "source": [
    "### Data Pre-Process"
   ]
  },
  {
   "cell_type": "code",
   "execution_count": null,
   "metadata": {},
   "outputs": [],
   "source": [
    "numeric_features = Student_Data.drop('math_score', axis=1).select_dtypes(include=['int64', 'float64']).columns\n",
    "categorical_features = Student_Data.drop('math_score', axis=1).select_dtypes(include=['object']).columns\n",
    "X = Student_Data.drop('math_score', axis=1)\n",
    "y = Student_Data['math_score']"
   ]
  },
  {
   "cell_type": "code",
   "execution_count": null,
   "metadata": {},
   "outputs": [],
   "source": [
    "num_features = X.select_dtypes(exclude=\"object\").columns\n",
    "cat_features = X.select_dtypes(include=\"object\").columns\n",
    "\n",
    "num_features, cat_features"
   ]
  },
  {
   "cell_type": "markdown",
   "metadata": {},
   "source": [
    "### Train Test Split"
   ]
  },
  {
   "cell_type": "code",
   "execution_count": null,
   "metadata": {},
   "outputs": [],
   "source": [
    "X_train, X_test, y_train, y_test = train_test_split(X, y, test_size=0.2, random_state=42)"
   ]
  },
  {
   "cell_type": "code",
   "execution_count": null,
   "metadata": {},
   "outputs": [],
   "source": [
    "numeric_transformer = StandardScaler()\n",
    "categorical_transformer = OneHotEncoder(drop='first', sparse=False)"
   ]
  },
  {
   "cell_type": "code",
   "execution_count": null,
   "metadata": {},
   "outputs": [],
   "source": [
    "preprocessor = ColumnTransformer(\n",
    "    transformers=[\n",
    "        ('num', numeric_transformer, numeric_features),\n",
    "        ('cat', categorical_transformer, categorical_features)])"
   ]
  },
  {
   "cell_type": "code",
   "execution_count": null,
   "metadata": {},
   "outputs": [],
   "source": [
    "X_train_processed = preprocessor.fit_transform(X_train)\n",
    "X_test_processed = preprocessor.transform(X_test)"
   ]
  },
  {
   "cell_type": "code",
   "execution_count": null,
   "metadata": {},
   "outputs": [],
   "source": [
    "X_train_tensor = torch.tensor(X_train_processed, dtype=torch.float32)\n",
    "y_train_tensor = torch.tensor(y_train.values, dtype=torch.float32).view(-1, 1)  # Reshape to column vector\n",
    "X_test_tensor = torch.tensor(X_test_processed, dtype=torch.float32)\n",
    "y_test_tensor = torch.tensor(y_test.values, dtype=torch.float32).view(-1, 1)  # Reshape to column vector\n"
   ]
  },
  {
   "cell_type": "markdown",
   "metadata": {},
   "source": [
    "### Model Architecture"
   ]
  },
  {
   "cell_type": "code",
   "execution_count": null,
   "metadata": {},
   "outputs": [],
   "source": [
    "class MLP(nn.Module):\n",
    "    def __init__(self, input_dim, hidden_dim1, hidden_dim2, output_dim):\n",
    "        super(MLP, self).__init__()\n",
    "        self.fc1 = nn.Linear(input_dim, hidden_dim1)\n",
    "        self.fc2 = nn.Linear(hidden_dim1, hidden_dim2)\n",
    "        self.fc3 = nn.Linear(hidden_dim2, output_dim)\n",
    "        self.relu = nn.ReLU()\n",
    "\n",
    "    def forward(self, x):\n",
    "        x = self.relu(self.fc1(x))\n",
    "        x = self.relu(self.fc2(x))\n",
    "        x = self.fc3(x)\n",
    "        return x"
   ]
  },
  {
   "cell_type": "code",
   "execution_count": null,
   "metadata": {},
   "outputs": [],
   "source": [
    "input_dim = X_train_tensor.shape[1]  # Number of features\n",
    "hidden_dim1 = 128\n",
    "hidden_dim2 = 64\n",
    "output_dim = 1  # For regression\n",
    "model = MLP(input_dim, hidden_dim1, hidden_dim2, output_dim)"
   ]
  },
  {
   "cell_type": "code",
   "execution_count": null,
   "metadata": {},
   "outputs": [],
   "source": [
    "criterion = nn.MSELoss()\n",
    "optimizer = optim.Adam(model.parameters(), lr=0.001)"
   ]
  },
  {
   "cell_type": "markdown",
   "metadata": {},
   "source": [
    "### Training Procedure"
   ]
  },
  {
   "cell_type": "code",
   "execution_count": null,
   "metadata": {},
   "outputs": [],
   "source": [
    "num_epochs = 5000\n",
    "for epoch in range(num_epochs):\n",
    "    model.train()\n",
    "    optimizer.zero_grad()\n",
    "#     print(f'Input shape: {X_train_tensor.shape}')\n",
    "    outputs = model(X_train_tensor)\n",
    "    loss = criterion(outputs, y_train_tensor)\n",
    "    loss.backward()\n",
    "    optimizer.step()\n",
    "    if (epoch+1) % 10 == 0:\n",
    "        model.eval()\n",
    "        with torch.no_grad():\n",
    "            y_pred = model(X_test_tensor)\n",
    "            test_loss = criterion(y_pred, y_test_tensor)\n",
    "        print(f'Epoch [{epoch+1}/{num_epochs}] | Train_Loss: {loss.item():.4f} | Test Loss: {test_loss.item():.4f}')"
   ]
  },
  {
   "cell_type": "markdown",
   "metadata": {},
   "source": [
    "### Evaluation"
   ]
  },
  {
   "cell_type": "code",
   "execution_count": null,
   "metadata": {},
   "outputs": [],
   "source": [
    "model.eval()\n",
    "with torch.no_grad():\n",
    "    y_pred = model(X_test_tensor)\n",
    "    test_loss = criterion(y_pred, y_test_tensor)\n",
    "    print(f'Test Loss: {test_loss.item():.4f}')"
   ]
  },
  {
   "cell_type": "markdown",
   "metadata": {},
   "source": [
    "## Obesity Levels"
   ]
  },
  {
   "cell_type": "markdown",
   "metadata": {},
   "source": [
    "### Import Required Libraries"
   ]
  },
  {
   "cell_type": "code",
   "execution_count": null,
   "metadata": {},
   "outputs": [],
   "source": [
    "import warnings\n",
    "warnings.filterwarnings(\"ignore\")\n",
    "\n",
    "import numpy as np\n",
    "import pandas as pd\n",
    "\n",
    "import seaborn as sns\n",
    "import matplotlib.pyplot as plt\n",
    "%matplotlib inline\n",
    "\n",
    "\n",
    "\n",
    "import os\n",
    "import matplotlib.pyplot as plt\n",
    "from sklearn.preprocessing import PowerTransformer\n",
    "from sklearn.model_selection import train_test_split\n",
    "from sklearn.preprocessing import StandardScaler, OneHotEncoder ,LabelEncoder\n",
    "from sklearn.compose import ColumnTransformer\n",
    "from sklearn import metrics\n",
    "import plotly.graph_objects as go\n",
    "import plotly.express as px\n",
    "\n",
    "\n",
    "from torch.utils import data\n",
    "from tqdm.notebook import tqdm\n",
    "import torch\n",
    "import torch.nn as nn\n",
    "import torch.optim as optim\n",
    "from torch.utils.data import DataLoader, TensorDataset\n"
   ]
  },
  {
   "cell_type": "markdown",
   "metadata": {},
   "source": [
    "### Loading Data"
   ]
  },
  {
   "cell_type": "code",
   "execution_count": null,
   "metadata": {},
   "outputs": [],
   "source": [
    "Obesity_Data = pd.read_csv(\"/kaggle/input/obesity-levels/ObesityDataSet_raw_and_data_sinthetic.csv\")\n",
    "Obesity_Data"
   ]
  },
  {
   "cell_type": "code",
   "execution_count": null,
   "metadata": {},
   "outputs": [],
   "source": [
    "Obesity_Data.info()"
   ]
  },
  {
   "cell_type": "code",
   "execution_count": null,
   "metadata": {},
   "outputs": [],
   "source": [
    "Obesity_Data.isna().sum()"
   ]
  },
  {
   "cell_type": "code",
   "execution_count": null,
   "metadata": {},
   "outputs": [],
   "source": [
    "Obesity_Data.duplicated().sum()"
   ]
  },
  {
   "cell_type": "code",
   "execution_count": null,
   "metadata": {},
   "outputs": [],
   "source": [
    "Obesity_Data.nunique()"
   ]
  },
  {
   "cell_type": "markdown",
   "metadata": {},
   "source": [
    "### EDA"
   ]
  },
  {
   "cell_type": "code",
   "execution_count": null,
   "metadata": {},
   "outputs": [],
   "source": [
    "Obesity_Data.describe()"
   ]
  },
  {
   "cell_type": "code",
   "execution_count": null,
   "metadata": {},
   "outputs": [],
   "source": [
    "categorical_features = Obesity_Data.select_dtypes(include=\"object\").columns\n",
    "continuous_features = Obesity_Data.select_dtypes(exclude=\"object\").columns"
   ]
  },
  {
   "cell_type": "code",
   "execution_count": null,
   "metadata": {},
   "outputs": [],
   "source": [
    "target_count = Obesity_Data['NObeyesdad'].value_counts()\n",
    "target_unique = Obesity_Data['NObeyesdad'].unique()"
   ]
  },
  {
   "cell_type": "code",
   "execution_count": null,
   "metadata": {},
   "outputs": [],
   "source": [
    "fig = px.pie(values= target_count, names = target_unique,color_discrete_sequence=px.colors.qualitative.Pastel1 ,title = \"the number of people related to each type of obesity level\")\n",
    "\n",
    "fig.show()"
   ]
  },
  {
   "cell_type": "code",
   "execution_count": null,
   "metadata": {},
   "outputs": [],
   "source": [
    "df_ot = Obesity_Data[Obesity_Data[\"NObeyesdad\"] == 'Obesity_Type_I' ]\n",
    "df_ot2 = Obesity_Data[Obesity_Data[\"NObeyesdad\"] == 'Obesity_Type_II']\n",
    "df_ot3 = Obesity_Data[Obesity_Data[\"NObeyesdad\"] == 'Obesity_Type_III']"
   ]
  },
  {
   "cell_type": "code",
   "execution_count": null,
   "metadata": {},
   "outputs": [],
   "source": [
    "df_ot_final = pd.concat([df_ot,df_ot2,df_ot3])\n",
    "df_ot_final.reset_index(drop=True, inplace = True)"
   ]
  },
  {
   "cell_type": "code",
   "execution_count": null,
   "metadata": {},
   "outputs": [],
   "source": [
    "df_ow = Obesity_Data[Obesity_Data[\"NObeyesdad\"]=='Overweight_Level_I']\n",
    "df_ow2 = Obesity_Data[Obesity_Data[\"NObeyesdad\"]=='Overweight_Level_II']"
   ]
  },
  {
   "cell_type": "code",
   "execution_count": null,
   "metadata": {},
   "outputs": [],
   "source": [
    "df_ow_final = pd.concat([df_ow,df_ow2])\n",
    "df_ow_final.reset_index(drop=True, inplace = True)"
   ]
  },
  {
   "cell_type": "code",
   "execution_count": null,
   "metadata": {},
   "outputs": [],
   "source": [
    "df_n = Obesity_Data[Obesity_Data[\"NObeyesdad\"]=='Normal_Weight']"
   ]
  },
  {
   "cell_type": "code",
   "execution_count": null,
   "metadata": {},
   "outputs": [],
   "source": [
    "df_In = Obesity_Data[Obesity_Data[\"NObeyesdad\"]=='Insufficient_Weight']"
   ]
  },
  {
   "cell_type": "code",
   "execution_count": null,
   "metadata": {},
   "outputs": [],
   "source": [
    "data_list = [df_ot_final, df_ow_final, df_n, df_In]\n",
    "\n",
    "data_name =[\"obesity_type\", \"over_weight_type\", \"normal\", \"Insufficient_Weight\" ]\n",
    "\n",
    "fig, axes = plt.subplots(figsize=(10,8),nrows = 2 , ncols =2)\n",
    "\n",
    "for i in range(2):\n",
    "\n",
    "    sns.histplot(data=data_list[i], x='Gender', hue='NObeyesdad',palette= 'turbo', ax=axes[i, 0], multiple='stack')\n",
    "    axes[i,0].set_title(f'{data_name[i]} vs Gender')\n",
    "\n",
    "    sns.histplot(data=data_list[i+2], x='Gender', hue='NObeyesdad',palette= 'turbo', ax=axes[i, 1], multiple='stack')\n",
    "    axes[i,1].set_title(f'{data_name[i+2]} vs Gender')\n",
    "\n",
    "fig.suptitle('Obesity_levels vs Gender')\n",
    "plt.tight_layout()\n",
    "plt.show()"
   ]
  },
  {
   "cell_type": "code",
   "execution_count": null,
   "metadata": {},
   "outputs": [],
   "source": [
    "data_list = [df_ot_final, df_ow_final, df_n, df_In]\n",
    "\n",
    "data_name =[\"obesity_type\", \"over_weight_type\", \"normal\", \"Insufficient_Weight\" ]\n",
    "\n",
    "fig, axes = plt.subplots(figsize=(10,8),nrows = 2 , ncols =2)\n",
    "\n",
    "for i in range(2):\n",
    "\n",
    "    sns.histplot(data=data_list[i], x='CALC', hue='NObeyesdad',palette= 'turbo', ax=axes[i, 0], multiple='stack')\n",
    "    axes[i,0].set_title(f'{data_name[i]} vs CALC')\n",
    "\n",
    "    sns.histplot(data=data_list[i+2], x='CALC', hue='NObeyesdad',palette= 'turbo', ax=axes[i, 1], multiple='stack')\n",
    "    axes[i,1].set_title(f'{data_name[i+2]} vs CALC')\n",
    "\n",
    "fig.suptitle('Obesity_levels vs CALC')\n",
    "plt.tight_layout()\n",
    "plt.show()"
   ]
  },
  {
   "cell_type": "code",
   "execution_count": null,
   "metadata": {},
   "outputs": [],
   "source": [
    "data_list = [df_ot_final, df_ow_final, df_n, df_In]\n",
    "\n",
    "data_name =[\"obesity_type\", \"over_weight_type\", \"normal\", \"Insufficient_Weight\" ]\n",
    "\n",
    "fig, axes = plt.subplots(figsize=(10,8),nrows = 2 , ncols =2)\n",
    "\n",
    "for i in range(2):\n",
    "\n",
    "    sns.histplot(data=data_list[i], x='FAVC', hue='NObeyesdad',palette= 'turbo' ,ax=axes[i, 0], multiple='stack')\n",
    "    axes[i,0].set_title(f'{data_name[i]} vs FAVC')\n",
    "\n",
    "    sns.histplot(data=data_list[i+2], x='FAVC', hue='NObeyesdad', palette= 'turbo',ax=axes[i, 1], multiple='stack')\n",
    "    axes[i,1].set_title(f'{data_name[i+2]} vs FAVC')\n",
    "\n",
    "fig.suptitle('Obesity_levels vs FAVC')\n",
    "plt.tight_layout()\n",
    "plt.show()"
   ]
  },
  {
   "cell_type": "code",
   "execution_count": null,
   "metadata": {},
   "outputs": [],
   "source": [
    "data_list = [df_ot_final, df_ow_final, df_n, df_In]\n",
    "\n",
    "data_name =[\"obesity_type\", \"over_weight_type\", \"normal\", \"Insufficient_Weight\" ]\n",
    "\n",
    "fig, axes = plt.subplots(figsize=(10,8),nrows = 2 , ncols =2)\n",
    "\n",
    "for i in range(2):\n",
    "\n",
    "    sns.histplot(data=data_list[i], x='SCC', hue='NObeyesdad',palette= 'turbo', ax=axes[i, 0], multiple='stack')\n",
    "    axes[i,0].set_title(f'{data_name[i]} vs SCC')\n",
    "\n",
    "    sns.histplot(data=data_list[i+2], x='SCC', hue='NObeyesdad',palette = \"turbo\" ,ax=axes[i, 1], multiple='stack')\n",
    "    axes[i,1].set_title(f'{data_name[i+2]} vs SCC')\n",
    "\n",
    "fig.suptitle('Obesity_levels vs SCC')\n",
    "plt.tight_layout()\n",
    "plt.show()"
   ]
  },
  {
   "cell_type": "code",
   "execution_count": null,
   "metadata": {},
   "outputs": [],
   "source": [
    "data_list = [df_ot_final, df_ow_final, df_n, df_In]\n",
    "\n",
    "data_name =[\"obesity_type\", \"over_weight_type\", \"normal\", \"Insufficient_Weight\" ]\n",
    "\n",
    "fig, axes = plt.subplots(figsize=(10,8),nrows = 2 , ncols =2)\n",
    "\n",
    "for i in range(2):\n",
    "\n",
    "    sns.histplot(data=data_list[i], x='SMOKE', hue='NObeyesdad', palette= 'turbo',ax=axes[i, 0], multiple='stack')\n",
    "    axes[i,0].set_title(f'{data_name[i]} vs SMOKE')\n",
    "\n",
    "    sns.histplot(data=data_list[i+2], x='SMOKE', hue='NObeyesdad', palette= 'turbo',ax=axes[i, 1], multiple='stack')\n",
    "    axes[i,1].set_title(f'{data_name[i+2]} vs SMOKE')\n",
    "\n",
    "fig.suptitle('Obesity_levels vs SMOKE')\n",
    "plt.tight_layout()\n",
    "plt.show()"
   ]
  },
  {
   "cell_type": "code",
   "execution_count": null,
   "metadata": {},
   "outputs": [],
   "source": [
    "data_list = [df_ot_final, df_ow_final, df_n, df_In]\n",
    "\n",
    "data_name =[\"obesity_type\", \"over_weight_type\", \"normal\", \"Insufficient_Weight\" ]\n",
    "\n",
    "fig, axes = plt.subplots(figsize=(10,8),nrows = 2 , ncols =2)\n",
    "\n",
    "for i in range(2):\n",
    "\n",
    "    sns.histplot(data=data_list[i], x='family_history_with_overweight', hue='NObeyesdad',palette= 'turbo', ax=axes[i, 0], multiple='stack')\n",
    "    axes[i,0].set_title(f'{data_name[i]} vs family_history_with_overweight')\n",
    "\n",
    "    sns.histplot(data=data_list[i+2], x='family_history_with_overweight', hue='NObeyesdad',palette= 'turbo', ax=axes[i, 1], multiple='stack')\n",
    "    axes[i,1].set_title(f'{data_name[i+2]} vs family_history_with_overweight')\n",
    "\n",
    "fig.suptitle('Obesity_levels vs family_history_with_overweight')\n",
    "plt.tight_layout()\n",
    "plt.show()"
   ]
  },
  {
   "cell_type": "code",
   "execution_count": null,
   "metadata": {},
   "outputs": [],
   "source": [
    "data_list = [df_ot_final, df_ow_final, df_n, df_In]\n",
    "\n",
    "data_name =[\"obesity_type\", \"over_weight_type\", \"normal\", \"Insufficient_Weight\" ]\n",
    "\n",
    "fig, axes = plt.subplots(figsize=(10,8),nrows = 2 , ncols =2)\n",
    "\n",
    "for i in range(2):\n",
    "\n",
    "    sns.histplot(data=data_list[i], x='CAEC', hue='NObeyesdad', palette= 'turbo',ax=axes[i, 0], multiple='stack')\n",
    "    axes[i,0].set_title(f'{data_name[i]} vs CAEC')\n",
    "\n",
    "    sns.histplot(data=data_list[i+2], x='CAEC', hue='NObeyesdad', palette= 'turbo',ax=axes[i, 1], multiple='stack')\n",
    "    axes[i,1].set_title(f'{data_name[i+2]} vs CAEC')\n",
    "\n",
    "fig.suptitle('Obesity_levels vs CAEC')\n",
    "plt.tight_layout()\n",
    "plt.show()"
   ]
  },
  {
   "cell_type": "code",
   "execution_count": null,
   "metadata": {},
   "outputs": [],
   "source": [
    "data_list = [df_ot_final, df_ow_final, df_n, df_In]\n",
    "\n",
    "data_name =[\"obesity_type\", \"over_weight_type\", \"normal\", \"Insufficient_Weight\" ]\n",
    "\n",
    "fig, axes = plt.subplots(figsize=(15,8),nrows = 2 , ncols =2)\n",
    "\n",
    "for i in range(2):\n",
    "\n",
    "    sns.histplot(data=data_list[i], x='MTRANS', hue='NObeyesdad', palette= 'turbo',ax=axes[i, 0], multiple='stack')\n",
    "    axes[i,0].set_title(f'{data_name[i]} vs MTRANS')\n",
    "\n",
    "    sns.histplot(data=data_list[i+2], x='MTRANS', hue='NObeyesdad',palette= 'turbo', ax=axes[i, 1], multiple='stack')\n",
    "    axes[i,1].set_title(f'{data_name[i+2]} vs MTRANS')\n",
    "\n",
    "fig.suptitle('Obesity_levels vs MTRANS')\n",
    "plt.tight_layout()\n",
    "plt.show()"
   ]
  },
  {
   "cell_type": "code",
   "execution_count": null,
   "metadata": {},
   "outputs": [],
   "source": [
    "data_list = [df_ot_final, df_ow_final, df_n, df_In]\n",
    "data_name =[\"obesity_type\", \"over_weight_type\", \"normal\", \"Insufficient_Weight\" ]\n",
    "\n",
    "fig,axes = plt.subplots(nrows = 2, ncols = 2, figsize = (10,8))\n",
    "\n",
    "for i in range(2):\n",
    "\n",
    "    sns.kdeplot(ax = axes[i,0],data=data_list[i], x=\"Age\", hue=\"NObeyesdad\", fill =True)\n",
    "    axes[i, 0].set_title(f'{data_name[i]} vs Age')\n",
    "\n",
    "    sns.kdeplot(ax = axes[i,1],data=data_list[i+2], x=\"Age\", hue=\"NObeyesdad\", fill =True)\n",
    "    axes[i, 1].set_title(f'{data_name[i+2]} vs Age')\n",
    "\n",
    "\n",
    "\n",
    "fig.suptitle('Obesity_levels vs Age')\n",
    "plt.tight_layout()\n",
    "plt.show()"
   ]
  },
  {
   "cell_type": "code",
   "execution_count": null,
   "metadata": {},
   "outputs": [],
   "source": [
    "data_list = [df_ot_final, df_ow_final, df_n, df_In]\n",
    "data_name =[\"obesity_type\", \"over_weight_type\", \"normal\", \"Insufficient_Weight\" ]\n",
    "\n",
    "fig,axes = plt.subplots(nrows = 2, ncols = 2, figsize = (10,8))\n",
    "\n",
    "for i in range(2):\n",
    "\n",
    "    sns.kdeplot(ax = axes[i,0],data=data_list[i], x=\"Height\", hue=\"NObeyesdad\", fill =True)\n",
    "    axes[i, 0].set_title(f'{data_name[i]} vs Height')\n",
    "\n",
    "    sns.kdeplot(ax = axes[i,1],data=data_list[i+2], x=\"Height\", hue=\"NObeyesdad\", fill =True)\n",
    "    axes[i, 1].set_title(f'{data_name[i+2]} vs Height')\n",
    "\n",
    "\n",
    "\n",
    "fig.suptitle('Obesity_levels vs Height')\n",
    "plt.tight_layout()\n",
    "plt.show()"
   ]
  },
  {
   "cell_type": "code",
   "execution_count": null,
   "metadata": {},
   "outputs": [],
   "source": [
    "data_list = [df_ot_final, df_ow_final, df_n, df_In]\n",
    "data_name =[\"obesity_type\", \"over_weight_type\", \"normal\", \"Insufficient_Weight\" ]\n",
    "\n",
    "fig,axes = plt.subplots(nrows = 2, ncols = 2, figsize = (10,8))\n",
    "\n",
    "for i in range(2):\n",
    "\n",
    "    sns.kdeplot(ax = axes[i,0],data=data_list[i], x=\"Weight\", hue=\"NObeyesdad\", fill =True)\n",
    "    axes[i, 0].set_title(f'{data_name[i]} vs Weight')\n",
    "\n",
    "    sns.kdeplot(ax = axes[i,1],data=data_list[i+2], x=\"Weight\", hue=\"NObeyesdad\", fill =True)\n",
    "    axes[i, 1].set_title(f'{data_name[i+2]} vs Weight')\n",
    "\n",
    "\n",
    "\n",
    "fig.suptitle('Obesity_levels vs Weight')\n",
    "plt.tight_layout()\n",
    "plt.show()"
   ]
  },
  {
   "cell_type": "code",
   "execution_count": null,
   "metadata": {},
   "outputs": [],
   "source": [
    "data_list = [df_ot_final, df_ow_final, df_n, df_In]\n",
    "data_name =[\"obesity_type\", \"over_weight_type\", \"normal\", \"Insufficient_Weight\" ]\n",
    "\n",
    "fig,axes = plt.subplots(nrows = 2, ncols = 2, figsize = (10,8))\n",
    "\n",
    "for i in range(2):\n",
    "\n",
    "    sns.kdeplot(ax = axes[i,0],data=data_list[i], x=\"FCVC\", hue=\"NObeyesdad\", fill =True)\n",
    "    axes[i, 0].set_title(f'{data_name[i]} vs FCVC')\n",
    "\n",
    "    sns.kdeplot(ax = axes[i,1],data=data_list[i+2], x=\"FCVC\", hue=\"NObeyesdad\", fill =True)\n",
    "    axes[i, 1].set_title(f'{data_name[i+2]} vs FCVC')\n",
    "\n",
    "\n",
    "\n",
    "fig.suptitle('Obesity_levels vs FCVC')\n",
    "plt.tight_layout()\n",
    "plt.show()"
   ]
  },
  {
   "cell_type": "code",
   "execution_count": null,
   "metadata": {},
   "outputs": [],
   "source": [
    "data_list = [df_ot_final, df_ow_final, df_n, df_In]\n",
    "data_name =[\"obesity_type\", \"over_weight_type\", \"normal\", \"Insufficient_Weight\" ]\n",
    "\n",
    "fig,axes = plt.subplots(nrows = 2, ncols = 2, figsize = (10,8))\n",
    "\n",
    "for i in range(2):\n",
    "\n",
    "    sns.kdeplot(ax = axes[i,0],data=data_list[i], x=\"NCP\", hue=\"NObeyesdad\", fill =True)\n",
    "    axes[i, 0].set_title(f'{data_name[i]} vs NCP')\n",
    "\n",
    "    sns.kdeplot(ax = axes[i,1],data=data_list[i+2], x=\"NCP\", hue=\"NObeyesdad\", fill =True)\n",
    "    axes[i, 1].set_title(f'{data_name[i+2]} vs NCP')\n",
    "\n",
    "\n",
    "\n",
    "fig.suptitle('Obesity_levels vs NCP')\n",
    "plt.tight_layout()\n",
    "plt.show()"
   ]
  },
  {
   "cell_type": "markdown",
   "metadata": {},
   "source": [
    "### Data Pre-Process"
   ]
  },
  {
   "cell_type": "code",
   "execution_count": null,
   "metadata": {},
   "outputs": [],
   "source": [
    "df1 = Obesity_Data.copy()"
   ]
  },
  {
   "cell_type": "code",
   "execution_count": null,
   "metadata": {},
   "outputs": [],
   "source": [
    "le = LabelEncoder()\n",
    "le.fit(df1['NObeyesdad'])\n",
    "df1['NObeyesdad'] = le.transform(df1['NObeyesdad'])\n",
    "df1.loc[df1['family_history_with_overweight'] == 'no', 'family_history_with_overweight'] = 0\n",
    "df1.loc[df1['family_history_with_overweight'] == 'yes', 'family_history_with_overweight'] = 1\n",
    "df1.loc[df1['FAVC'] == 'no', 'FAVC'] = 0\n",
    "df1.loc[df1['FAVC'] == 'yes', 'FAVC'] = 1\n",
    "df1.loc[df1['CAEC'] == 'no', 'CAEC'] = 0\n",
    "df1.loc[df1['CAEC'] == 'Sometimes', 'CAEC'] = 1\n",
    "df1.loc[df1['CAEC'] == 'Frequently', 'CAEC'] = 2\n",
    "df1.loc[df1['CAEC'] == 'Always', 'CAEC'] = 3\n",
    "df1.loc[df1['SMOKE'] == 'no', 'SMOKE'] = 0\n",
    "df1.loc[df1['SMOKE'] == 'yes', 'SMOKE'] = 1\n",
    "df1.loc[df1['SCC'] == 'no', 'SCC'] = 0\n",
    "df1.loc[df1['SCC'] == 'yes', 'SCC'] = 1\n",
    "df1.loc[df1['CALC'] == 'no', 'CALC'] = 0\n",
    "df1.loc[df1['CALC'] == 'Sometimes', 'CALC'] = 1\n",
    "df1.loc[df1['CALC'] == 'Frequently', 'CALC'] = 2\n",
    "df1.loc[df1['CALC'] == 'Always', 'CALC'] = 3\n",
    "\n",
    "df1 = pd.get_dummies(df1)\n",
    "df1 = df1.astype('float64')"
   ]
  },
  {
   "cell_type": "code",
   "execution_count": null,
   "metadata": {},
   "outputs": [],
   "source": [
    "plt.figure(figsize=(20,12))\n",
    "sns.heatmap(df1.corr(), annot = True, cmap = \"coolwarm\")\n",
    "plt.title('The correlation among features',y= 1.05)\n",
    "plt.show()"
   ]
  },
  {
   "cell_type": "code",
   "execution_count": null,
   "metadata": {},
   "outputs": [],
   "source": [
    "X = df1.drop(columns=['NObeyesdad'])\n",
    "y = df1['NObeyesdad']\n",
    "\n",
    "X_train, X_test, y_train, y_test = train_test_split(X, y, test_size=0.2, random_state=42)"
   ]
  },
  {
   "cell_type": "code",
   "execution_count": null,
   "metadata": {},
   "outputs": [],
   "source": [
    "scaler = StandardScaler()\n",
    "X_train_scaled = scaler.fit_transform(X_train)\n",
    "X_test_scaled = scaler.transform(X_test)\n"
   ]
  },
  {
   "cell_type": "code",
   "execution_count": null,
   "metadata": {},
   "outputs": [],
   "source": [
    "X_train_tensor = torch.tensor(X_train_scaled, dtype=torch.float32)\n",
    "X_test_tensor = torch.tensor(X_test_scaled, dtype=torch.float32)\n",
    "y_train_tensor = torch.tensor(y_train, dtype=torch.long)\n",
    "y_test_tensor = torch.tensor(y_test.to_numpy(), dtype=torch.long)"
   ]
  },
  {
   "cell_type": "markdown",
   "metadata": {},
   "source": [
    "### Model Architecture"
   ]
  },
  {
   "cell_type": "code",
   "execution_count": null,
   "metadata": {},
   "outputs": [],
   "source": [
    "class Model(nn.Module):\n",
    "    def __init__(self, input_size, hidden_size, num_classes):\n",
    "        super(Model, self).__init__()\n",
    "        self.fc1 = nn.Linear(input_size, hidden_size)\n",
    "        self.relu = nn.ReLU()\n",
    "        self.dropout1 = nn.Dropout(0.2)\n",
    "        self.fc2 = nn.Linear(hidden_size, hidden_size)\n",
    "        self.dropout2 = nn.Dropout(0.2)\n",
    "        self.fc3 = nn.Linear(hidden_size, num_classes)\n",
    "\n",
    "    def forward(self, x):\n",
    "        out = self.fc1(x)\n",
    "        out = self.relu(out)\n",
    "        out = self.dropout1(out)\n",
    "        out = self.fc2(out)\n",
    "        out = self.relu(out)\n",
    "        out = self.dropout2(out)\n",
    "        out = self.fc3(out)\n",
    "        return out"
   ]
  },
  {
   "cell_type": "code",
   "execution_count": null,
   "metadata": {},
   "outputs": [],
   "source": [
    "input_size = X_train_tensor.shape[1]\n",
    "hidden_size = 128\n",
    "num_classes = 7\n",
    "learning_rate = 0.001\n",
    "num_epochs = 100\n",
    "batch_size = 256"
   ]
  },
  {
   "cell_type": "code",
   "execution_count": null,
   "metadata": {},
   "outputs": [],
   "source": [
    "model = Model(input_size, hidden_size, num_classes)\n",
    "criterion = nn.CrossEntropyLoss()\n",
    "optimizer = optim.Adam(model.parameters(), lr=learning_rate)"
   ]
  },
  {
   "cell_type": "code",
   "execution_count": null,
   "metadata": {},
   "outputs": [],
   "source": [
    "train_dataset = TensorDataset(X_train_tensor, y_train_tensor)\n",
    "train_loader = DataLoader(train_dataset, batch_size=batch_size, shuffle=True)"
   ]
  },
  {
   "cell_type": "markdown",
   "metadata": {},
   "source": [
    "### Training"
   ]
  },
  {
   "cell_type": "code",
   "execution_count": null,
   "metadata": {},
   "outputs": [],
   "source": [
    "for epoch in range(num_epochs):\n",
    "    running_loss = 0.0\n",
    "    for i, (inputs, labels) in enumerate(train_loader, 1):\n",
    "        optimizer.zero_grad()\n",
    "        outputs = model(inputs)\n",
    "        loss = criterion(outputs, labels)\n",
    "        loss.backward()\n",
    "        optimizer.step()\n",
    "\n",
    "        running_loss += loss.item()\n",
    "\n",
    "    epoch_loss = running_loss / len(train_loader)\n",
    "    model.eval()\n",
    "    with torch.no_grad():\n",
    "        outputs = model(X_test_tensor)\n",
    "        test_loss = criterion(outputs, y_test_tensor)\n",
    "    print(f'Epoch [{epoch + 1}/{num_epochs}] | Train Loss: {epoch_loss:.4f} | Test Loss: {test_loss.item():.4f}')"
   ]
  },
  {
   "cell_type": "markdown",
   "metadata": {},
   "source": [
    "### Evaluation"
   ]
  },
  {
   "cell_type": "code",
   "execution_count": null,
   "metadata": {},
   "outputs": [],
   "source": [
    "with torch.no_grad():\n",
    "    outputs = model(X_test_tensor)\n",
    "    _, predicted = torch.max(outputs, 1)\n",
    "    test_accuracy = accuracy_score(y_test_tensor.numpy(), predicted.numpy())\n",
    "\n",
    "print(f'Test accuracy: {test_accuracy}')"
   ]
  }
 ],
 "metadata": {
  "language_info": {
   "name": "python"
  }
 },
 "nbformat": 4,
 "nbformat_minor": 2
}
