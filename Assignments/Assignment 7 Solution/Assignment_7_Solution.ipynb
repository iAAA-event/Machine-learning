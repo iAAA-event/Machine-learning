{
  "cells": [
    {
      "cell_type": "code",
      "execution_count": 2,
      "metadata": {
        "id": "caLZAcOK8Xl3"
      },
      "outputs": [],
      "source": [
        "import torch\n",
        "import torch.nn as nn\n",
        "import torch.optim as optim\n",
        "from torchvision import datasets, transforms\n",
        "from torch.utils.data import Dataset, DataLoader\n",
        "import numpy as np\n",
        "import matplotlib.pyplot as plt"
      ]
    },
    {
      "cell_type": "code",
      "execution_count": 3,
      "metadata": {
        "colab": {
          "base_uri": "https://localhost:8080/"
        },
        "id": "tqPaV9hO95_r",
        "outputId": "cfbb24d2-fdca-48b1-aef2-af740226c766"
      },
      "outputs": [
        {
          "output_type": "stream",
          "name": "stdout",
          "text": [
            "Downloading http://yann.lecun.com/exdb/mnist/train-images-idx3-ubyte.gz\n",
            "Failed to download (trying next):\n",
            "HTTP Error 403: Forbidden\n",
            "\n",
            "Downloading https://ossci-datasets.s3.amazonaws.com/mnist/train-images-idx3-ubyte.gz\n",
            "Downloading https://ossci-datasets.s3.amazonaws.com/mnist/train-images-idx3-ubyte.gz to ./data/MNIST/raw/train-images-idx3-ubyte.gz\n"
          ]
        },
        {
          "output_type": "stream",
          "name": "stderr",
          "text": [
            "100%|██████████| 9912422/9912422 [00:00<00:00, 56463728.35it/s]\n"
          ]
        },
        {
          "output_type": "stream",
          "name": "stdout",
          "text": [
            "Extracting ./data/MNIST/raw/train-images-idx3-ubyte.gz to ./data/MNIST/raw\n",
            "\n",
            "Downloading http://yann.lecun.com/exdb/mnist/train-labels-idx1-ubyte.gz\n",
            "Failed to download (trying next):\n",
            "HTTP Error 403: Forbidden\n",
            "\n",
            "Downloading https://ossci-datasets.s3.amazonaws.com/mnist/train-labels-idx1-ubyte.gz\n",
            "Downloading https://ossci-datasets.s3.amazonaws.com/mnist/train-labels-idx1-ubyte.gz to ./data/MNIST/raw/train-labels-idx1-ubyte.gz\n"
          ]
        },
        {
          "output_type": "stream",
          "name": "stderr",
          "text": [
            "100%|██████████| 28881/28881 [00:00<00:00, 1759184.62it/s]\n"
          ]
        },
        {
          "output_type": "stream",
          "name": "stdout",
          "text": [
            "Extracting ./data/MNIST/raw/train-labels-idx1-ubyte.gz to ./data/MNIST/raw\n",
            "\n",
            "Downloading http://yann.lecun.com/exdb/mnist/t10k-images-idx3-ubyte.gz\n",
            "Failed to download (trying next):\n",
            "HTTP Error 403: Forbidden\n",
            "\n",
            "Downloading https://ossci-datasets.s3.amazonaws.com/mnist/t10k-images-idx3-ubyte.gz\n",
            "Downloading https://ossci-datasets.s3.amazonaws.com/mnist/t10k-images-idx3-ubyte.gz to ./data/MNIST/raw/t10k-images-idx3-ubyte.gz\n"
          ]
        },
        {
          "output_type": "stream",
          "name": "stderr",
          "text": [
            "100%|██████████| 1648877/1648877 [00:00<00:00, 13519297.75it/s]\n"
          ]
        },
        {
          "output_type": "stream",
          "name": "stdout",
          "text": [
            "Extracting ./data/MNIST/raw/t10k-images-idx3-ubyte.gz to ./data/MNIST/raw\n",
            "\n",
            "Downloading http://yann.lecun.com/exdb/mnist/t10k-labels-idx1-ubyte.gz\n",
            "Failed to download (trying next):\n",
            "HTTP Error 403: Forbidden\n",
            "\n",
            "Downloading https://ossci-datasets.s3.amazonaws.com/mnist/t10k-labels-idx1-ubyte.gz\n",
            "Downloading https://ossci-datasets.s3.amazonaws.com/mnist/t10k-labels-idx1-ubyte.gz to ./data/MNIST/raw/t10k-labels-idx1-ubyte.gz\n"
          ]
        },
        {
          "output_type": "stream",
          "name": "stderr",
          "text": [
            "100%|██████████| 4542/4542 [00:00<00:00, 3153017.01it/s]\n"
          ]
        },
        {
          "output_type": "stream",
          "name": "stdout",
          "text": [
            "Extracting ./data/MNIST/raw/t10k-labels-idx1-ubyte.gz to ./data/MNIST/raw\n",
            "\n",
            "Downloading https://www.cs.toronto.edu/~kriz/cifar-10-python.tar.gz to ./data/cifar-10-python.tar.gz\n"
          ]
        },
        {
          "output_type": "stream",
          "name": "stderr",
          "text": [
            "100%|██████████| 170498071/170498071 [00:02<00:00, 65438995.09it/s]\n"
          ]
        },
        {
          "output_type": "stream",
          "name": "stdout",
          "text": [
            "Extracting ./data/cifar-10-python.tar.gz to ./data\n"
          ]
        }
      ],
      "source": [
        "transform_mnist = transforms.Compose([\n",
        "    transforms.ToTensor()\n",
        "])\n",
        "\n",
        "transform_cifar = transforms.Compose([\n",
        "    transforms.ToTensor()\n",
        "])\n",
        "\n",
        "mnist_dataset = datasets.MNIST(root='./data', train=True, download=True, transform=transform_mnist)\n",
        "cifar_dataset = datasets.CIFAR10(root='./data', train=True, download=True, transform=transform_cifar)\n",
        "\n",
        "mnist_loader = torch.utils.data.DataLoader(mnist_dataset, batch_size=1, shuffle=True)\n",
        "cifar_loader = torch.utils.data.DataLoader(cifar_dataset, batch_size=1, shuffle=True)"
      ]
    },
    {
      "cell_type": "code",
      "execution_count": 15,
      "metadata": {
        "id": "D9kw6iPy9_5a"
      },
      "outputs": [],
      "source": [
        "class MergeDataset(Dataset):\n",
        "  def __init__(self, mnist_dataset, cifar_dataset):\n",
        "    self.mnist_dataset = mnist_dataset\n",
        "    self.cifar_dataset = cifar_dataset\n",
        "    self.length = min(len(self.mnist_dataset), len(self.cifar_dataset))\n",
        "    self.resize = transforms.Resize((32, 32))\n",
        "\n",
        "  def __len__(self):\n",
        "    return self.length\n",
        "\n",
        "  def __getitem__(self, idx):\n",
        "    image1 = self.mnist_dataset[idx][0]\n",
        "    image2 = self.cifar_dataset[idx][0]\n",
        "\n",
        "    image1 = self.resize(image1)\n",
        "    image1 = torch.cat([image1]*3, dim=0)\n",
        "\n",
        "    mean_image = (image1 + image2) / 2\n",
        "    return (mean_image, image1, image2)\n"
      ]
    },
    {
      "cell_type": "code",
      "execution_count": 16,
      "metadata": {
        "id": "q7aBfAFE-9tR"
      },
      "outputs": [],
      "source": [
        "merge_dataset = MergeDataset(mnist_dataset, cifar_dataset)\n",
        "merge_dataloader = DataLoader(merge_dataset, batch_size=32, shuffle=True)"
      ]
    },
    {
      "cell_type": "code",
      "execution_count": 17,
      "metadata": {
        "id": "lQ62FqQX_rh-"
      },
      "outputs": [],
      "source": [
        "class Encoder(nn.Module):\n",
        "  def __init__(self):\n",
        "    super(Encoder, self).__init__()\n",
        "    self.model = nn.Sequential(\n",
        "        nn.Conv2d(3, 16, 3, stride=2, padding=1),\n",
        "        nn.ReLU(True),\n",
        "        nn.Conv2d(16, 32, 3, stride=2, padding=1),\n",
        "        nn.ReLU(True),\n",
        "        nn.Conv2d(32, 64, 7)\n",
        "    )\n",
        "\n",
        "  def forward(self, x):\n",
        "    return self.model(x)"
      ]
    },
    {
      "cell_type": "code",
      "execution_count": 18,
      "metadata": {
        "id": "oPvA_TyIAusD"
      },
      "outputs": [],
      "source": [
        "class Decoder(nn.Module):\n",
        "  def __init__(self):\n",
        "    super(Decoder, self).__init__()\n",
        "    self.model = nn.Sequential(\n",
        "        nn.ConvTranspose2d(64, 32, 7),\n",
        "        nn.ReLU(True),\n",
        "        nn.ConvTranspose2d(32, 16, 3, stride=2, padding=1, output_padding=1),\n",
        "        nn.ReLU(True),\n",
        "        nn.ConvTranspose2d(16, 3, 3, stride=2, padding=1, output_padding=1),\n",
        "        nn.Tanh()\n",
        "    )\n",
        "\n",
        "  def forward(self, x):\n",
        "    return self.model(x)"
      ]
    },
    {
      "cell_type": "code",
      "source": [
        "class AutoEncoder(nn.Module):\n",
        "  def __init__(self, encoder, decoder):\n",
        "    super(AutoEncoder, self).__init__()\n",
        "    self.encoder = encoder\n",
        "    self.decoder = decoder\n",
        "\n",
        "  def forward(self, x):\n",
        "    z = self.encoder(x)\n",
        "    x = self.decoder(z)\n",
        "    return x, z"
      ],
      "metadata": {
        "id": "gq14eqbghB3Y"
      },
      "execution_count": 19,
      "outputs": []
    },
    {
      "cell_type": "code",
      "source": [
        "encoder = Encoder()\n",
        "decoder = Decoder()\n",
        "autoencoder = AutoEncoder(encoder, decoder)\n",
        "\n",
        "reconstr_loss = nn.MSELoss()\n",
        "optimizer = optim.Adam(autoencoder.parameters(), lr=1e-3)\n",
        "\n",
        "num_epochs = 1000"
      ],
      "metadata": {
        "id": "KgvpCw8uhSFp"
      },
      "execution_count": 20,
      "outputs": []
    },
    {
      "cell_type": "code",
      "source": [
        "for epoch in range(num_epochs):\n",
        "    for i, data in enumerate(merge_dataloader):\n",
        "        mean_image, image1, image2 = data\n",
        "        # Forward pass\n",
        "        output, _ = autoencoder(mean_image)\n",
        "        # Compute loss\n",
        "        loss = reconstr_loss(output, image1) + reconstr_loss(output, image2)\n",
        "        # Backward pass\n",
        "        optimizer.zero_grad()\n",
        "        loss.backward()\n",
        "        optimizer.step()\n",
        "        # Print training progress\n",
        "        if i % 100 == 0:\n",
        "            print(f\"Epoch [{epoch+1}/{num_epochs}], Batch [{i}], Loss: {loss.item():.4f}\")\n"
      ],
      "metadata": {
        "colab": {
          "base_uri": "https://localhost:8080/",
          "height": 1000
        },
        "id": "jfBEED1Ahfgy",
        "outputId": "23d03b37-25da-4f4f-e0fe-34a34bab4a6f"
      },
      "execution_count": 21,
      "outputs": [
        {
          "output_type": "stream",
          "name": "stdout",
          "text": [
            "Epoch [1/1000], Batch [0], Loss: 0.4825\n",
            "Epoch [1/1000], Batch [100], Loss: 0.1839\n",
            "Epoch [1/1000], Batch [200], Loss: 0.1625\n",
            "Epoch [1/1000], Batch [300], Loss: 0.1517\n",
            "Epoch [1/1000], Batch [400], Loss: 0.1587\n",
            "Epoch [1/1000], Batch [500], Loss: 0.1443\n",
            "Epoch [1/1000], Batch [600], Loss: 0.1282\n",
            "Epoch [1/1000], Batch [700], Loss: 0.1345\n",
            "Epoch [1/1000], Batch [800], Loss: 0.1473\n",
            "Epoch [1/1000], Batch [900], Loss: 0.1437\n",
            "Epoch [1/1000], Batch [1000], Loss: 0.1374\n",
            "Epoch [1/1000], Batch [1100], Loss: 0.1542\n",
            "Epoch [1/1000], Batch [1200], Loss: 0.1267\n",
            "Epoch [1/1000], Batch [1300], Loss: 0.1386\n",
            "Epoch [1/1000], Batch [1400], Loss: 0.1369\n",
            "Epoch [1/1000], Batch [1500], Loss: 0.1478\n",
            "Epoch [2/1000], Batch [0], Loss: 0.1302\n",
            "Epoch [2/1000], Batch [100], Loss: 0.1344\n",
            "Epoch [2/1000], Batch [200], Loss: 0.1446\n",
            "Epoch [2/1000], Batch [300], Loss: 0.1380\n",
            "Epoch [2/1000], Batch [400], Loss: 0.1426\n",
            "Epoch [2/1000], Batch [500], Loss: 0.1435\n",
            "Epoch [2/1000], Batch [600], Loss: 0.1481\n",
            "Epoch [2/1000], Batch [700], Loss: 0.1405\n",
            "Epoch [2/1000], Batch [800], Loss: 0.1280\n",
            "Epoch [2/1000], Batch [900], Loss: 0.1394\n",
            "Epoch [2/1000], Batch [1000], Loss: 0.1413\n",
            "Epoch [2/1000], Batch [1100], Loss: 0.1361\n",
            "Epoch [2/1000], Batch [1200], Loss: 0.1313\n",
            "Epoch [2/1000], Batch [1300], Loss: 0.1322\n",
            "Epoch [2/1000], Batch [1400], Loss: 0.1427\n",
            "Epoch [2/1000], Batch [1500], Loss: 0.1550\n",
            "Epoch [3/1000], Batch [0], Loss: 0.1673\n",
            "Epoch [3/1000], Batch [100], Loss: 0.1587\n",
            "Epoch [3/1000], Batch [200], Loss: 0.1363\n",
            "Epoch [3/1000], Batch [300], Loss: 0.1402\n",
            "Epoch [3/1000], Batch [400], Loss: 0.1465\n",
            "Epoch [3/1000], Batch [500], Loss: 0.1771\n",
            "Epoch [3/1000], Batch [600], Loss: 0.1448\n",
            "Epoch [3/1000], Batch [700], Loss: 0.1412\n",
            "Epoch [3/1000], Batch [800], Loss: 0.1554\n",
            "Epoch [3/1000], Batch [900], Loss: 0.1374\n",
            "Epoch [3/1000], Batch [1000], Loss: 0.1299\n",
            "Epoch [3/1000], Batch [1100], Loss: 0.1385\n",
            "Epoch [3/1000], Batch [1200], Loss: 0.1314\n",
            "Epoch [3/1000], Batch [1300], Loss: 0.1378\n",
            "Epoch [3/1000], Batch [1400], Loss: 0.1337\n",
            "Epoch [3/1000], Batch [1500], Loss: 0.1353\n",
            "Epoch [4/1000], Batch [0], Loss: 0.1430\n",
            "Epoch [4/1000], Batch [100], Loss: 0.1247\n",
            "Epoch [4/1000], Batch [200], Loss: 0.1390\n",
            "Epoch [4/1000], Batch [300], Loss: 0.1421\n",
            "Epoch [4/1000], Batch [400], Loss: 0.1499\n",
            "Epoch [4/1000], Batch [500], Loss: 0.1402\n",
            "Epoch [4/1000], Batch [600], Loss: 0.1437\n",
            "Epoch [4/1000], Batch [700], Loss: 0.1353\n",
            "Epoch [4/1000], Batch [800], Loss: 0.1365\n",
            "Epoch [4/1000], Batch [900], Loss: 0.1439\n",
            "Epoch [4/1000], Batch [1000], Loss: 0.1445\n",
            "Epoch [4/1000], Batch [1100], Loss: 0.1294\n",
            "Epoch [4/1000], Batch [1200], Loss: 0.1557\n",
            "Epoch [4/1000], Batch [1300], Loss: 0.1506\n",
            "Epoch [4/1000], Batch [1400], Loss: 0.1455\n",
            "Epoch [4/1000], Batch [1500], Loss: 0.1449\n",
            "Epoch [5/1000], Batch [0], Loss: 0.1436\n",
            "Epoch [5/1000], Batch [100], Loss: 0.1393\n",
            "Epoch [5/1000], Batch [200], Loss: 0.1448\n",
            "Epoch [5/1000], Batch [300], Loss: 0.1440\n",
            "Epoch [5/1000], Batch [400], Loss: 0.1424\n",
            "Epoch [5/1000], Batch [500], Loss: 0.1170\n",
            "Epoch [5/1000], Batch [600], Loss: 0.1300\n",
            "Epoch [5/1000], Batch [700], Loss: 0.1326\n",
            "Epoch [5/1000], Batch [800], Loss: 0.1210\n",
            "Epoch [5/1000], Batch [900], Loss: 0.1327\n",
            "Epoch [5/1000], Batch [1000], Loss: 0.1279\n",
            "Epoch [5/1000], Batch [1100], Loss: 0.1328\n",
            "Epoch [5/1000], Batch [1200], Loss: 0.1433\n",
            "Epoch [5/1000], Batch [1300], Loss: 0.1254\n",
            "Epoch [5/1000], Batch [1400], Loss: 0.1258\n",
            "Epoch [5/1000], Batch [1500], Loss: 0.1283\n",
            "Epoch [6/1000], Batch [0], Loss: 0.1504\n",
            "Epoch [6/1000], Batch [100], Loss: 0.1411\n",
            "Epoch [6/1000], Batch [200], Loss: 0.1412\n",
            "Epoch [6/1000], Batch [300], Loss: 0.1339\n",
            "Epoch [6/1000], Batch [400], Loss: 0.1266\n",
            "Epoch [6/1000], Batch [500], Loss: 0.1457\n",
            "Epoch [6/1000], Batch [600], Loss: 0.1297\n",
            "Epoch [6/1000], Batch [700], Loss: 0.1331\n",
            "Epoch [6/1000], Batch [800], Loss: 0.1340\n",
            "Epoch [6/1000], Batch [900], Loss: 0.1479\n",
            "Epoch [6/1000], Batch [1000], Loss: 0.1308\n",
            "Epoch [6/1000], Batch [1100], Loss: 0.1296\n",
            "Epoch [6/1000], Batch [1200], Loss: 0.1404\n",
            "Epoch [6/1000], Batch [1300], Loss: 0.1558\n",
            "Epoch [6/1000], Batch [1400], Loss: 0.1502\n",
            "Epoch [6/1000], Batch [1500], Loss: 0.1475\n",
            "Epoch [7/1000], Batch [0], Loss: 0.1248\n",
            "Epoch [7/1000], Batch [100], Loss: 0.1549\n",
            "Epoch [7/1000], Batch [200], Loss: 0.1400\n",
            "Epoch [7/1000], Batch [300], Loss: 0.1328\n",
            "Epoch [7/1000], Batch [400], Loss: 0.1158\n",
            "Epoch [7/1000], Batch [500], Loss: 0.1540\n",
            "Epoch [7/1000], Batch [600], Loss: 0.1180\n",
            "Epoch [7/1000], Batch [700], Loss: 0.1314\n",
            "Epoch [7/1000], Batch [800], Loss: 0.1364\n",
            "Epoch [7/1000], Batch [900], Loss: 0.1311\n",
            "Epoch [7/1000], Batch [1000], Loss: 0.1184\n",
            "Epoch [7/1000], Batch [1100], Loss: 0.1467\n",
            "Epoch [7/1000], Batch [1200], Loss: 0.1405\n",
            "Epoch [7/1000], Batch [1300], Loss: 0.1421\n",
            "Epoch [7/1000], Batch [1400], Loss: 0.1187\n",
            "Epoch [7/1000], Batch [1500], Loss: 0.1425\n"
          ]
        },
        {
          "output_type": "error",
          "ename": "KeyboardInterrupt",
          "evalue": "",
          "traceback": [
            "\u001b[0;31m---------------------------------------------------------------------------\u001b[0m",
            "\u001b[0;31mKeyboardInterrupt\u001b[0m                         Traceback (most recent call last)",
            "\u001b[0;32m<ipython-input-21-5ed85d3825fa>\u001b[0m in \u001b[0;36m<cell line: 3>\u001b[0;34m()\u001b[0m\n\u001b[1;32m      2\u001b[0m \u001b[0;34m\u001b[0m\u001b[0m\n\u001b[1;32m      3\u001b[0m \u001b[0;32mfor\u001b[0m \u001b[0mepoch\u001b[0m \u001b[0;32min\u001b[0m \u001b[0mrange\u001b[0m\u001b[0;34m(\u001b[0m\u001b[0mnum_epochs\u001b[0m\u001b[0;34m)\u001b[0m\u001b[0;34m:\u001b[0m\u001b[0;34m\u001b[0m\u001b[0;34m\u001b[0m\u001b[0m\n\u001b[0;32m----> 4\u001b[0;31m     \u001b[0;32mfor\u001b[0m \u001b[0mi\u001b[0m\u001b[0;34m,\u001b[0m \u001b[0mdata\u001b[0m \u001b[0;32min\u001b[0m \u001b[0menumerate\u001b[0m\u001b[0;34m(\u001b[0m\u001b[0mmerge_dataloader\u001b[0m\u001b[0;34m)\u001b[0m\u001b[0;34m:\u001b[0m\u001b[0;34m\u001b[0m\u001b[0;34m\u001b[0m\u001b[0m\n\u001b[0m\u001b[1;32m      5\u001b[0m         \u001b[0mmean_image\u001b[0m\u001b[0;34m,\u001b[0m \u001b[0mimage1\u001b[0m\u001b[0;34m,\u001b[0m \u001b[0mimage2\u001b[0m \u001b[0;34m=\u001b[0m \u001b[0mdata\u001b[0m\u001b[0;34m\u001b[0m\u001b[0;34m\u001b[0m\u001b[0m\n\u001b[1;32m      6\u001b[0m         \u001b[0;31m# Forward pass\u001b[0m\u001b[0;34m\u001b[0m\u001b[0;34m\u001b[0m\u001b[0m\n",
            "\u001b[0;32m/usr/local/lib/python3.10/dist-packages/torch/utils/data/dataloader.py\u001b[0m in \u001b[0;36m__next__\u001b[0;34m(self)\u001b[0m\n\u001b[1;32m    629\u001b[0m                 \u001b[0;31m# TODO(https://github.com/pytorch/pytorch/issues/76750)\u001b[0m\u001b[0;34m\u001b[0m\u001b[0;34m\u001b[0m\u001b[0m\n\u001b[1;32m    630\u001b[0m                 \u001b[0mself\u001b[0m\u001b[0;34m.\u001b[0m\u001b[0m_reset\u001b[0m\u001b[0;34m(\u001b[0m\u001b[0;34m)\u001b[0m  \u001b[0;31m# type: ignore[call-arg]\u001b[0m\u001b[0;34m\u001b[0m\u001b[0;34m\u001b[0m\u001b[0m\n\u001b[0;32m--> 631\u001b[0;31m             \u001b[0mdata\u001b[0m \u001b[0;34m=\u001b[0m \u001b[0mself\u001b[0m\u001b[0;34m.\u001b[0m\u001b[0m_next_data\u001b[0m\u001b[0;34m(\u001b[0m\u001b[0;34m)\u001b[0m\u001b[0;34m\u001b[0m\u001b[0;34m\u001b[0m\u001b[0m\n\u001b[0m\u001b[1;32m    632\u001b[0m             \u001b[0mself\u001b[0m\u001b[0;34m.\u001b[0m\u001b[0m_num_yielded\u001b[0m \u001b[0;34m+=\u001b[0m \u001b[0;36m1\u001b[0m\u001b[0;34m\u001b[0m\u001b[0;34m\u001b[0m\u001b[0m\n\u001b[1;32m    633\u001b[0m             \u001b[0;32mif\u001b[0m \u001b[0mself\u001b[0m\u001b[0;34m.\u001b[0m\u001b[0m_dataset_kind\u001b[0m \u001b[0;34m==\u001b[0m \u001b[0m_DatasetKind\u001b[0m\u001b[0;34m.\u001b[0m\u001b[0mIterable\u001b[0m \u001b[0;32mand\u001b[0m\u001b[0;31m \u001b[0m\u001b[0;31m\\\u001b[0m\u001b[0;34m\u001b[0m\u001b[0;34m\u001b[0m\u001b[0m\n",
            "\u001b[0;32m/usr/local/lib/python3.10/dist-packages/torch/utils/data/dataloader.py\u001b[0m in \u001b[0;36m_next_data\u001b[0;34m(self)\u001b[0m\n\u001b[1;32m    673\u001b[0m     \u001b[0;32mdef\u001b[0m \u001b[0m_next_data\u001b[0m\u001b[0;34m(\u001b[0m\u001b[0mself\u001b[0m\u001b[0;34m)\u001b[0m\u001b[0;34m:\u001b[0m\u001b[0;34m\u001b[0m\u001b[0;34m\u001b[0m\u001b[0m\n\u001b[1;32m    674\u001b[0m         \u001b[0mindex\u001b[0m \u001b[0;34m=\u001b[0m \u001b[0mself\u001b[0m\u001b[0;34m.\u001b[0m\u001b[0m_next_index\u001b[0m\u001b[0;34m(\u001b[0m\u001b[0;34m)\u001b[0m  \u001b[0;31m# may raise StopIteration\u001b[0m\u001b[0;34m\u001b[0m\u001b[0;34m\u001b[0m\u001b[0m\n\u001b[0;32m--> 675\u001b[0;31m         \u001b[0mdata\u001b[0m \u001b[0;34m=\u001b[0m \u001b[0mself\u001b[0m\u001b[0;34m.\u001b[0m\u001b[0m_dataset_fetcher\u001b[0m\u001b[0;34m.\u001b[0m\u001b[0mfetch\u001b[0m\u001b[0;34m(\u001b[0m\u001b[0mindex\u001b[0m\u001b[0;34m)\u001b[0m  \u001b[0;31m# may raise StopIteration\u001b[0m\u001b[0;34m\u001b[0m\u001b[0;34m\u001b[0m\u001b[0m\n\u001b[0m\u001b[1;32m    676\u001b[0m         \u001b[0;32mif\u001b[0m \u001b[0mself\u001b[0m\u001b[0;34m.\u001b[0m\u001b[0m_pin_memory\u001b[0m\u001b[0;34m:\u001b[0m\u001b[0;34m\u001b[0m\u001b[0;34m\u001b[0m\u001b[0m\n\u001b[1;32m    677\u001b[0m             \u001b[0mdata\u001b[0m \u001b[0;34m=\u001b[0m \u001b[0m_utils\u001b[0m\u001b[0;34m.\u001b[0m\u001b[0mpin_memory\u001b[0m\u001b[0;34m.\u001b[0m\u001b[0mpin_memory\u001b[0m\u001b[0;34m(\u001b[0m\u001b[0mdata\u001b[0m\u001b[0;34m,\u001b[0m \u001b[0mself\u001b[0m\u001b[0;34m.\u001b[0m\u001b[0m_pin_memory_device\u001b[0m\u001b[0;34m)\u001b[0m\u001b[0;34m\u001b[0m\u001b[0;34m\u001b[0m\u001b[0m\n",
            "\u001b[0;32m/usr/local/lib/python3.10/dist-packages/torch/utils/data/_utils/fetch.py\u001b[0m in \u001b[0;36mfetch\u001b[0;34m(self, possibly_batched_index)\u001b[0m\n\u001b[1;32m     49\u001b[0m                 \u001b[0mdata\u001b[0m \u001b[0;34m=\u001b[0m \u001b[0mself\u001b[0m\u001b[0;34m.\u001b[0m\u001b[0mdataset\u001b[0m\u001b[0;34m.\u001b[0m\u001b[0m__getitems__\u001b[0m\u001b[0;34m(\u001b[0m\u001b[0mpossibly_batched_index\u001b[0m\u001b[0;34m)\u001b[0m\u001b[0;34m\u001b[0m\u001b[0;34m\u001b[0m\u001b[0m\n\u001b[1;32m     50\u001b[0m             \u001b[0;32melse\u001b[0m\u001b[0;34m:\u001b[0m\u001b[0;34m\u001b[0m\u001b[0;34m\u001b[0m\u001b[0m\n\u001b[0;32m---> 51\u001b[0;31m                 \u001b[0mdata\u001b[0m \u001b[0;34m=\u001b[0m \u001b[0;34m[\u001b[0m\u001b[0mself\u001b[0m\u001b[0;34m.\u001b[0m\u001b[0mdataset\u001b[0m\u001b[0;34m[\u001b[0m\u001b[0midx\u001b[0m\u001b[0;34m]\u001b[0m \u001b[0;32mfor\u001b[0m \u001b[0midx\u001b[0m \u001b[0;32min\u001b[0m \u001b[0mpossibly_batched_index\u001b[0m\u001b[0;34m]\u001b[0m\u001b[0;34m\u001b[0m\u001b[0;34m\u001b[0m\u001b[0m\n\u001b[0m\u001b[1;32m     52\u001b[0m         \u001b[0;32melse\u001b[0m\u001b[0;34m:\u001b[0m\u001b[0;34m\u001b[0m\u001b[0;34m\u001b[0m\u001b[0m\n\u001b[1;32m     53\u001b[0m             \u001b[0mdata\u001b[0m \u001b[0;34m=\u001b[0m \u001b[0mself\u001b[0m\u001b[0;34m.\u001b[0m\u001b[0mdataset\u001b[0m\u001b[0;34m[\u001b[0m\u001b[0mpossibly_batched_index\u001b[0m\u001b[0;34m]\u001b[0m\u001b[0;34m\u001b[0m\u001b[0;34m\u001b[0m\u001b[0m\n",
            "\u001b[0;32m/usr/local/lib/python3.10/dist-packages/torch/utils/data/_utils/fetch.py\u001b[0m in \u001b[0;36m<listcomp>\u001b[0;34m(.0)\u001b[0m\n\u001b[1;32m     49\u001b[0m                 \u001b[0mdata\u001b[0m \u001b[0;34m=\u001b[0m \u001b[0mself\u001b[0m\u001b[0;34m.\u001b[0m\u001b[0mdataset\u001b[0m\u001b[0;34m.\u001b[0m\u001b[0m__getitems__\u001b[0m\u001b[0;34m(\u001b[0m\u001b[0mpossibly_batched_index\u001b[0m\u001b[0;34m)\u001b[0m\u001b[0;34m\u001b[0m\u001b[0;34m\u001b[0m\u001b[0m\n\u001b[1;32m     50\u001b[0m             \u001b[0;32melse\u001b[0m\u001b[0;34m:\u001b[0m\u001b[0;34m\u001b[0m\u001b[0;34m\u001b[0m\u001b[0m\n\u001b[0;32m---> 51\u001b[0;31m                 \u001b[0mdata\u001b[0m \u001b[0;34m=\u001b[0m \u001b[0;34m[\u001b[0m\u001b[0mself\u001b[0m\u001b[0;34m.\u001b[0m\u001b[0mdataset\u001b[0m\u001b[0;34m[\u001b[0m\u001b[0midx\u001b[0m\u001b[0;34m]\u001b[0m \u001b[0;32mfor\u001b[0m \u001b[0midx\u001b[0m \u001b[0;32min\u001b[0m \u001b[0mpossibly_batched_index\u001b[0m\u001b[0;34m]\u001b[0m\u001b[0;34m\u001b[0m\u001b[0;34m\u001b[0m\u001b[0m\n\u001b[0m\u001b[1;32m     52\u001b[0m         \u001b[0;32melse\u001b[0m\u001b[0;34m:\u001b[0m\u001b[0;34m\u001b[0m\u001b[0;34m\u001b[0m\u001b[0m\n\u001b[1;32m     53\u001b[0m             \u001b[0mdata\u001b[0m \u001b[0;34m=\u001b[0m \u001b[0mself\u001b[0m\u001b[0;34m.\u001b[0m\u001b[0mdataset\u001b[0m\u001b[0;34m[\u001b[0m\u001b[0mpossibly_batched_index\u001b[0m\u001b[0;34m]\u001b[0m\u001b[0;34m\u001b[0m\u001b[0;34m\u001b[0m\u001b[0m\n",
            "\u001b[0;32m<ipython-input-15-2fab6ceded7d>\u001b[0m in \u001b[0;36m__getitem__\u001b[0;34m(self, idx)\u001b[0m\n\u001b[1;32m     10\u001b[0m \u001b[0;34m\u001b[0m\u001b[0m\n\u001b[1;32m     11\u001b[0m   \u001b[0;32mdef\u001b[0m \u001b[0m__getitem__\u001b[0m\u001b[0;34m(\u001b[0m\u001b[0mself\u001b[0m\u001b[0;34m,\u001b[0m \u001b[0midx\u001b[0m\u001b[0;34m)\u001b[0m\u001b[0;34m:\u001b[0m\u001b[0;34m\u001b[0m\u001b[0;34m\u001b[0m\u001b[0m\n\u001b[0;32m---> 12\u001b[0;31m     \u001b[0mimage1\u001b[0m \u001b[0;34m=\u001b[0m \u001b[0mself\u001b[0m\u001b[0;34m.\u001b[0m\u001b[0mmnist_dataset\u001b[0m\u001b[0;34m[\u001b[0m\u001b[0midx\u001b[0m\u001b[0;34m]\u001b[0m\u001b[0;34m[\u001b[0m\u001b[0;36m0\u001b[0m\u001b[0;34m]\u001b[0m\u001b[0;34m\u001b[0m\u001b[0;34m\u001b[0m\u001b[0m\n\u001b[0m\u001b[1;32m     13\u001b[0m     \u001b[0mimage2\u001b[0m \u001b[0;34m=\u001b[0m \u001b[0mself\u001b[0m\u001b[0;34m.\u001b[0m\u001b[0mcifar_dataset\u001b[0m\u001b[0;34m[\u001b[0m\u001b[0midx\u001b[0m\u001b[0;34m]\u001b[0m\u001b[0;34m[\u001b[0m\u001b[0;36m0\u001b[0m\u001b[0;34m]\u001b[0m\u001b[0;34m\u001b[0m\u001b[0;34m\u001b[0m\u001b[0m\n\u001b[1;32m     14\u001b[0m \u001b[0;34m\u001b[0m\u001b[0m\n",
            "\u001b[0;32m/usr/local/lib/python3.10/dist-packages/torchvision/datasets/mnist.py\u001b[0m in \u001b[0;36m__getitem__\u001b[0;34m(self, index)\u001b[0m\n\u001b[1;32m    137\u001b[0m             \u001b[0mtuple\u001b[0m\u001b[0;34m:\u001b[0m \u001b[0;34m(\u001b[0m\u001b[0mimage\u001b[0m\u001b[0;34m,\u001b[0m \u001b[0mtarget\u001b[0m\u001b[0;34m)\u001b[0m \u001b[0mwhere\u001b[0m \u001b[0mtarget\u001b[0m \u001b[0;32mis\u001b[0m \u001b[0mindex\u001b[0m \u001b[0mof\u001b[0m \u001b[0mthe\u001b[0m \u001b[0mtarget\u001b[0m \u001b[0;32mclass\u001b[0m\u001b[0;34m.\u001b[0m\u001b[0;34m\u001b[0m\u001b[0;34m\u001b[0m\u001b[0m\n\u001b[1;32m    138\u001b[0m         \"\"\"\n\u001b[0;32m--> 139\u001b[0;31m         \u001b[0mimg\u001b[0m\u001b[0;34m,\u001b[0m \u001b[0mtarget\u001b[0m \u001b[0;34m=\u001b[0m \u001b[0mself\u001b[0m\u001b[0;34m.\u001b[0m\u001b[0mdata\u001b[0m\u001b[0;34m[\u001b[0m\u001b[0mindex\u001b[0m\u001b[0;34m]\u001b[0m\u001b[0;34m,\u001b[0m \u001b[0mint\u001b[0m\u001b[0;34m(\u001b[0m\u001b[0mself\u001b[0m\u001b[0;34m.\u001b[0m\u001b[0mtargets\u001b[0m\u001b[0;34m[\u001b[0m\u001b[0mindex\u001b[0m\u001b[0;34m]\u001b[0m\u001b[0;34m)\u001b[0m\u001b[0;34m\u001b[0m\u001b[0;34m\u001b[0m\u001b[0m\n\u001b[0m\u001b[1;32m    140\u001b[0m \u001b[0;34m\u001b[0m\u001b[0m\n\u001b[1;32m    141\u001b[0m         \u001b[0;31m# doing this so that it is consistent with all other datasets\u001b[0m\u001b[0;34m\u001b[0m\u001b[0;34m\u001b[0m\u001b[0m\n",
            "\u001b[0;31mKeyboardInterrupt\u001b[0m: "
          ]
        }
      ]
    },
    {
      "cell_type": "code",
      "source": [
        "# Test the model\n",
        "with torch.no_grad():\n",
        "    for i, data in enumerate(merge_dataloader):\n",
        "        mean_image, image1, image2 = data\n",
        "        output, _ = autoencoder(mean_image)\n",
        "        # Plot the images\n",
        "        plt.figure(figsize=(20, 10))\n",
        "        f, axarr = plt.subplots(1, 5)\n",
        "        axarr[0].imshow(mean_image[0, 0].numpy())\n",
        "        axarr[0].set_title('Mean Image')\n",
        "        axarr[1].imshow(image1[0, 0].numpy())\n",
        "        axarr[1].set_title('True Image 1')\n",
        "        axarr[2].imshow(image2[0, 0].numpy())\n",
        "        axarr[2].set_title('True Image 2')\n",
        "        axarr[3].imshow(output[0, 0].numpy())\n",
        "        axarr[3].set_title('Predicted Image 1')\n",
        "        axarr[4].imshow(output[0, 0].numpy())\n",
        "        axarr[4].set_title('Predicted Image 2')\n",
        "        plt.show()\n",
        "        break\n"
      ],
      "metadata": {
        "colab": {
          "base_uri": "https://localhost:8080/",
          "height": 185
        },
        "id": "sf9QBrk3h03v",
        "outputId": "bafea8fb-84fe-498c-8616-623e3f71a401"
      },
      "execution_count": 26,
      "outputs": [
        {
          "output_type": "display_data",
          "data": {
            "text/plain": [
              "<Figure size 2000x1000 with 0 Axes>"
            ]
          },
          "metadata": {}
        },
        {
          "output_type": "display_data",
          "data": {
            "text/plain": [
              "<Figure size 640x480 with 5 Axes>"
            ],
            "image/png": "[encoded data removed]"
          },
          "metadata": {}
        }
      ]
    },
    {
      "cell_type": "code",
      "source": [],
      "metadata": {
        "id": "ACHXRy8hkHVy"
      },
      "execution_count": null,
      "outputs": []
    }
  ],
  "metadata": {
    "accelerator": "GPU",
    "colab": {
      "gpuType": "T4",
      "provenance": []
    },
    "kernelspec": {
      "display_name": "Python 3",
      "name": "python3"
    },
    "language_info": {
      "name": "python"
    }
  },
  "nbformat": 4,
  "nbformat_minor": 0
}